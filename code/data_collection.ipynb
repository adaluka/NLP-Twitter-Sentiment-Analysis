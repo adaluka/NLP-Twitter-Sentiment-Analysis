{
 "cells": [
  {
   "cell_type": "code",
   "execution_count": 153,
   "id": "fb7e40af",
   "metadata": {},
   "outputs": [],
   "source": [
    "import sys\n",
    "import tweepy\n",
    "from textblob import TextBlob\n",
    "from datetime import datetime, timedelta\n",
    "from collections import OrderedDict\n",
    "import matplotlib.pyplot as plt\n",
    "import pandas as pd\n",
    "import numpy as np\n",
    "import os\n",
    "import nltk\n",
    "import pycountry\n",
    "import re\n",
    "import string\n",
    "from wordcloud import WordCloud, STOPWORDS\n",
    "from PIL import Image\n",
    "from nltk.sentiment.vader import SentimentIntensityAnalyzer\n",
    "from langdetect import detect\n",
    "from nltk.stem import SnowballStemmer\n",
    "from nltk.sentiment.vader import SentimentIntensityAnalyzer\n",
    "from sklearn.feature_extraction.text import CountVectorizer"
   ]
  },
  {
   "cell_type": "code",
   "execution_count": 41,
   "id": "836149b7",
   "metadata": {},
   "outputs": [],
   "source": [
    "def percentage(part,whole):\n",
    "    return 100 * float(part)/float(whole)"
   ]
  },
  {
   "cell_type": "code",
   "execution_count": 42,
   "id": "9771a7b4",
   "metadata": {},
   "outputs": [],
   "source": [
    "api_key = 'H5z154wpQSziVJVCoc3TxHUtO'\n",
    "#client_key = 'WTlsdjkxalhfOW5QbU1wVzA5Rnk6MTpjaQ'\n",
    "api_secret = 'HJAkwH9LZVn7BiFCllAppG2psVcMG5pCLlc92Q9G1NpUQWEtU9'\n",
    "#client_secret = 'ysBVKgt4HPp31f_s-CFVh9a9pbOAZpDGVsltmWbmGhhgobmpvA'\n",
    "\n",
    "access_token = '1569474881196277760-ylmgGT0tKr9Vakbqfn5oQXxAVJLpaY'\n",
    "access_secret = 'dJ1BNQKgoWGvZUw3sWK5mntLIPr2wZwieI3CLLoqPtZ34'\n",
    "\n",
    "auth = tweepy.OAuthHandler(api_key, api_secret)\n",
    "auth.set_access_token(access_token, access_secret)\n",
    "api = tweepy.API(auth,wait_on_rate_limit = True)"
   ]
  },
  {
   "cell_type": "code",
   "execution_count": 210,
   "id": "537afcd6",
   "metadata": {},
   "outputs": [],
   "source": [
    "noOfTweet = 50000"
   ]
  },
  {
   "cell_type": "code",
   "execution_count": 211,
   "id": "908bc3f8",
   "metadata": {},
   "outputs": [],
   "source": [
    "dates =['2022-10-'+str(i).zfill(2) for i in range(5,14)]"
   ]
  },
  {
   "cell_type": "code",
   "execution_count": 212,
   "id": "f4bc3c8e",
   "metadata": {},
   "outputs": [],
   "source": [
    "polarity = []\n",
    "polarity2 = []\n",
    "time_stamp = []\n",
    "for i in range(len(dates)-1):\n",
    "    tag = 'Fetterman since:'+ dates[i] +' until:'+ dates[i+1]\n",
    "    tweets = api.search_tweets(q=tag, count = noOfTweet)\n",
    "    pol = 0\n",
    "    for tweet in tweets:\n",
    "        remove_rt = re.sub('RT @\\w+: ',\" \",tweet.text)\n",
    "        rt = re.sub(\"(@[A-Za-z0–9]+)|(\\w+:\\/\\/\\S+)\",\" \",remove_rt)\n",
    "        text = rt.lower()\n",
    "        analysis = TextBlob(text)\n",
    "        pol += analysis.sentiment.polarity\n",
    "    polarity.append(pol)\n",
    "    time_stamp.append(dates[i][-2:])\n",
    "    tag2 = 'Mehmet OR Mehmet Oz since:'+ dates[i] +' until:'+ dates[i+1]\n",
    "    tweets2 = api.search_tweets(q=tag2, count = noOfTweet)\n",
    "    pol2 = 0\n",
    "    for tweet in tweets2:\n",
    "        remove_rt = re.sub('RT @\\w+: ',\" \",tweet.text)\n",
    "        rt = re.sub(\"(@[A-Za-z0–9]+)|(\\w+:\\/\\/\\S+)\",\" \",remove_rt)\n",
    "        text = rt.lower()\n",
    "        analysis = TextBlob(text)\n",
    "        pol2 += analysis.sentiment.polarity\n",
    "    polarity2.append(pol2)\n",
    "    "
   ]
  },
  {
   "cell_type": "code",
   "execution_count": 213,
   "id": "7dee6ef8",
   "metadata": {},
   "outputs": [],
   "source": [
    "fet_poll = [47.4,47.1,47.0,46.2,46.0]\n",
    "Mehmet_poll = [43.3,43.1,42.7,42.4,42.3]"
   ]
  },
  {
   "cell_type": "code",
   "execution_count": 214,
   "id": "ea6ce807",
   "metadata": {},
   "outputs": [],
   "source": [
    "result = pd.DataFrame(OrderedDict( {\n",
    "            'Date': time_stamp[:-3]\n",
    "         , 'Polarity_Fetterman': polarity[:-3]\n",
    "         , 'Polarity_Mehmet': polarity2[:-3]\n",
    "         , 'Poll_Fetterman': fet_poll\n",
    "         , 'Poll_Mehmet' : Mehmet_poll\n",
    "         }))"
   ]
  },
  {
   "cell_type": "code",
   "execution_count": 215,
   "id": "7a573534",
   "metadata": {},
   "outputs": [
    {
     "data": {
      "text/html": [
       "<div>\n",
       "<style scoped>\n",
       "    .dataframe tbody tr th:only-of-type {\n",
       "        vertical-align: middle;\n",
       "    }\n",
       "\n",
       "    .dataframe tbody tr th {\n",
       "        vertical-align: top;\n",
       "    }\n",
       "\n",
       "    .dataframe thead th {\n",
       "        text-align: right;\n",
       "    }\n",
       "</style>\n",
       "<table border=\"1\" class=\"dataframe\">\n",
       "  <thead>\n",
       "    <tr style=\"text-align: right;\">\n",
       "      <th></th>\n",
       "      <th>Date</th>\n",
       "      <th>Polarity_Fetterman</th>\n",
       "      <th>Polarity_Mehmet</th>\n",
       "      <th>Poll_Fetterman</th>\n",
       "      <th>Poll_Mehmet</th>\n",
       "    </tr>\n",
       "  </thead>\n",
       "  <tbody>\n",
       "    <tr>\n",
       "      <th>0</th>\n",
       "      <td>05</td>\n",
       "      <td>1.526824</td>\n",
       "      <td>-6.613317</td>\n",
       "      <td>47.4</td>\n",
       "      <td>43.3</td>\n",
       "    </tr>\n",
       "    <tr>\n",
       "      <th>1</th>\n",
       "      <td>06</td>\n",
       "      <td>15.402624</td>\n",
       "      <td>29.568434</td>\n",
       "      <td>47.1</td>\n",
       "      <td>43.1</td>\n",
       "    </tr>\n",
       "    <tr>\n",
       "      <th>2</th>\n",
       "      <td>07</td>\n",
       "      <td>7.259208</td>\n",
       "      <td>-0.885103</td>\n",
       "      <td>47.0</td>\n",
       "      <td>42.7</td>\n",
       "    </tr>\n",
       "    <tr>\n",
       "      <th>3</th>\n",
       "      <td>08</td>\n",
       "      <td>7.891281</td>\n",
       "      <td>-8.488095</td>\n",
       "      <td>46.2</td>\n",
       "      <td>42.4</td>\n",
       "    </tr>\n",
       "    <tr>\n",
       "      <th>4</th>\n",
       "      <td>09</td>\n",
       "      <td>3.193845</td>\n",
       "      <td>-1.930303</td>\n",
       "      <td>46.0</td>\n",
       "      <td>42.3</td>\n",
       "    </tr>\n",
       "  </tbody>\n",
       "</table>\n",
       "</div>"
      ],
      "text/plain": [
       "  Date  Polarity_Fetterman  Polarity_Mehmet  Poll_Fetterman  Poll_Mehmet\n",
       "0   05            1.526824        -6.613317            47.4         43.3\n",
       "1   06           15.402624        29.568434            47.1         43.1\n",
       "2   07            7.259208        -0.885103            47.0         42.7\n",
       "3   08            7.891281        -8.488095            46.2         42.4\n",
       "4   09            3.193845        -1.930303            46.0         42.3"
      ]
     },
     "execution_count": 215,
     "metadata": {},
     "output_type": "execute_result"
    }
   ],
   "source": [
    "result"
   ]
  },
  {
   "cell_type": "code",
   "execution_count": 216,
   "id": "4d42fc52",
   "metadata": {},
   "outputs": [
    {
     "name": "stdout",
     "output_type": "stream",
     "text": [
      "Fetterman correlation:  13.90%\n"
     ]
    }
   ],
   "source": [
    "print(\"Fetterman correlation: \",'{:.2%}'.format(np.corrcoef(polarity[:-3],fet_poll)[0][1]))"
   ]
  },
  {
   "cell_type": "code",
   "execution_count": 217,
   "id": "e32cd7b4",
   "metadata": {},
   "outputs": [
    {
     "name": "stdout",
     "output_type": "stream",
     "text": [
      "Mehmet correlation 38.85%\n"
     ]
    }
   ],
   "source": [
    "print(\"Mehmet correlation\",'{:.2%}'.format(np.corrcoef(polarity2[:-3],Mehmet_poll)[0][1]))"
   ]
  },
  {
   "cell_type": "code",
   "execution_count": 221,
   "id": "acffc778",
   "metadata": {},
   "outputs": [
    {
     "data": {
      "text/plain": [
       "<AxesSubplot:xlabel='Date'>"
      ]
     },
     "execution_count": 221,
     "metadata": {},
     "output_type": "execute_result"
    },
    {
     "data": {
      "image/png": "[encoded data removed]",
      "text/plain": [
       "<Figure size 432x288 with 1 Axes>"
      ]
     },
     "metadata": {
      "needs_background": "light"
     },
     "output_type": "display_data"
    }
   ],
   "source": [
    "result.plot(x = 'Date')#.plot(ax=plt.gca().twinx(), color=\"C1\")"
   ]
  }
 ],
 "metadata": {
  "kernelspec": {
   "display_name": "Python 3",
   "language": "python",
   "name": "python3"
  },
  "language_info": {
   "codemirror_mode": {
    "name": "ipython",
    "version": 3
   },
   "file_extension": ".py",
   "mimetype": "text/x-python",
   "name": "python",
   "nbconvert_exporter": "python",
   "pygments_lexer": "ipython3",
   "version": "3.8.8"
  }
 },
 "nbformat": 4,
 "nbformat_minor": 5
}
